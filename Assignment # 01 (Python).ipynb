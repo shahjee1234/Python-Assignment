{
 "cells": [
  {
   "cell_type": "code",
   "execution_count": 1,
   "metadata": {},
   "outputs": [
    {
     "name": "stdout",
     "output_type": "stream",
     "text": [
      "Twinkle, twinkle, little star,\n",
      "\tHow I wonder what you are! \n",
      "\t\tUp above the world so high, \n",
      "\t\tLike a diamond in the sky. \n",
      "Twinkle, twinkle, little star, \n",
      "\tHow I wonder what you are!\n"
     ]
    }
   ],
   "source": [
    "print(\"Twinkle, twinkle, little star,\\n\\tHow I wonder what you are! \\n\\t\\tUp above the world so high, \\n\\t\\tLike a diamond in the sky. \\nTwinkle, twinkle, little star, \\n\\tHow I wonder what you are!\")"
   ]
  },
  {
   "cell_type": "code",
   "execution_count": 2,
   "metadata": {},
   "outputs": [
    {
     "name": "stdout",
     "output_type": "stream",
     "text": [
      "Python version\n",
      "3.7.4 (default, Aug  9 2019, 18:34:13) [MSC v.1915 64 bit (AMD64)]\n",
      "Version info\n",
      "sys.version_info(major=3, minor=7, micro=4, releaselevel='final', serial=0)\n"
     ]
    }
   ],
   "source": [
    "import sys\n",
    "print(\"Python version\")\n",
    "print(sys.version)\n",
    "print(\"Version info\")\n",
    "print(sys.version_info)"
   ]
  },
  {
   "cell_type": "code",
   "execution_count": 4,
   "metadata": {},
   "outputs": [
    {
     "name": "stdout",
     "output_type": "stream",
     "text": [
      "Current date and time : \n",
      "2019-11-03  14:26:15:\n"
     ]
    }
   ],
   "source": [
    "import datetime\n",
    "now = datetime.datetime.now()\n",
    "print(\"Current date and time : \")\n",
    "print(now.strftime(\"%Y-%m-%d  %H:%M:%S:\"))"
   ]
  },
  {
   "cell_type": "code",
   "execution_count": 5,
   "metadata": {},
   "outputs": [
    {
     "name": "stdout",
     "output_type": "stream",
     "text": [
      "Input the radius of the circle : 6\n",
      "The area of the circle with radius 6.0 is: 113.09733552923255\n"
     ]
    }
   ],
   "source": [
    "from math import pi\n",
    "r= float(input(\"Input the radius of the circle : \"))\n",
    "print(\"The area of the circle with radius \" + str(r) + \" is: \" + str(pi * r**2))"
   ]
  },
  {
   "cell_type": "code",
   "execution_count": 6,
   "metadata": {},
   "outputs": [
    {
     "name": "stdout",
     "output_type": "stream",
     "text": [
      "Input your First Name : Mubashir\n",
      "Input your Last Name : Ahmed\n",
      "Ahmed Mubashir\n"
     ]
    }
   ],
   "source": [
    "fname = input(\"Input your First Name : \")\n",
    "lname = input(\"Input your Last Name : \")\n",
    "print(lname+\" \"+fname)"
   ]
  },
  {
   "cell_type": "code",
   "execution_count": 8,
   "metadata": {},
   "outputs": [
    {
     "name": "stdout",
     "output_type": "stream",
     "text": [
      "Enter First Number : 7\n",
      "Enter Second Number: 7\n",
      "Addition of two numbers are: 14\n"
     ]
    }
   ],
   "source": [
    "num1 = int(input(\"Enter First Number : \"))\n",
    "num2 = input(\"Enter Second Number: \")\n",
    "sum = int(num1) +int(num2)\n",
    "print('Addition of two numbers are: '+format(sum))"
   ]
  },
  {
   "cell_type": "code",
   "execution_count": 10,
   "metadata": {},
   "outputs": [
    {
     "name": "stdout",
     "output_type": "stream",
     "text": [
      "Enter your percentage %75\n",
      "Congrulations you achieved A\n"
     ]
    }
   ],
   "source": [
    "per = int(input(\"Enter your percentage %\"))\n",
    "if per >= 80 and per <= 100:\n",
    "    print(\" Congrulations you achieved A+\")\n",
    "elif per >= 70 and per <= 80:\n",
    "    print(\"Congrulations you achieved A\")\n",
    "elif per >= 60 and per <= 70:\n",
    "    print(\"Congrulations you achieved B\")\n",
    "elif per >= 50 and per <= 60:\n",
    "    print(\"You achieved C\")\n",
    "elif per >= 40 and per <= 50:\n",
    "    print(\"You achieved D\")\n",
    "elif per >= 33 and per <= 40:\n",
    "    print(\"You achieved E\")\n",
    "elif per >= 0 and per <= 33:\n",
    "    print(\"You are FAIL\")\n",
    "else:\n",
    "    print(\"You have given inappropriate %\")"
   ]
  },
  {
   "cell_type": "code",
   "execution_count": null,
   "metadata": {},
   "outputs": [],
   "source": []
  }
 ],
 "metadata": {
  "kernelspec": {
   "display_name": "Python 3",
   "language": "python",
   "name": "python3"
  },
  "language_info": {
   "codemirror_mode": {
    "name": "ipython",
    "version": 3
   },
   "file_extension": ".py",
   "mimetype": "text/x-python",
   "name": "python",
   "nbconvert_exporter": "python",
   "pygments_lexer": "ipython3",
   "version": "3.7.4"
  }
 },
 "nbformat": 4,
 "nbformat_minor": 2
}
